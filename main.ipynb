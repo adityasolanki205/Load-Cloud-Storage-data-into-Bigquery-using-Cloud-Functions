{
 "cells": [
  {
   "cell_type": "code",
   "execution_count": null,
   "metadata": {},
   "outputs": [],
   "source": [
    "import os\n",
    "\n",
    "from google.cloud import bigquery\n",
    "\n",
    "def load_csv_to_bq(data, context):\n",
    "        client = bigquery.Client()\n",
    "        \n",
    "        dataset_ref = client.dataset(os.environ['DATASET'])\n",
    "        job_config = bigquery.LoadJobConfig()\n",
    "        job_config.write_disposition = 'WRITE_APPEND'\n",
    "        job_config.schema = [\n",
    "                    bigquery.SchemaField('Existing_account', 'STRING'),\n",
    "                    bigquery.SchemaField('Duration_month', 'INTEGER'),\n",
    "                    bigquery.SchemaField('Credit_history', 'STRING'),\n",
    "                    bigquery.SchemaField('Purpose', 'STRING'),\n",
    "                    bigquery.SchemaField('Credit_amount', 'STRING'),\n",
    "                    bigquery.SchemaField('Saving', 'STRING'),\n",
    "                    bigquery.SchemaField('Employment_duration', 'STRING'),\n",
    "                    bigquery.SchemaField('Installment_rate', 'INTEGER'),\n",
    "                    bigquery.SchemaField('Personal_status', 'STRING'),\n",
    "                    bigquery.SchemaField('Debtors', 'STRING'),\n",
    "                    bigquery.SchemaField('Residential_Duration', 'INTEGER'),\n",
    "                    bigquery.SchemaField('Property', 'STRING'),\n",
    "                    bigquery.SchemaField('Age', 'INTEGER'),\n",
    "                    bigquery.SchemaField('Installment_plans', 'STRING'),\n",
    "                    bigquery.SchemaField('Housing', 'STRING'),\n",
    "                    bigquery.SchemaField('Number_of_credits', 'INTEGER'),\n",
    "                    bigquery.SchemaField('Job', 'STRING'),\n",
    "                    bigquery.SchemaField('Liable_People', 'INTEGER'),\n",
    "                    bigquery.SchemaField('Telephone', 'STRING'),\n",
    "                    bigquery.SchemaField('Foreign_worker', 'STRING'),\n",
    "                    bigquery.SchemaField('Classification', 'INTEGER'),\n",
    "                ]\n",
    "        job_config.skip_leading_rows = 1\n",
    "        job_config.source_format = bigquery.SourceFormat.CSV\n",
    "\n",
    "        # get the URI for uploaded CSV in GCS from 'data'\n",
    "        uri = 'gs://functions-testing-bq/german_data.csv'\n",
    "\n",
    "        # load the data into BQ\n",
    "        load_job = client.load_table_from_uri(\n",
    "                uri,\n",
    "                dataset_ref.table(os.environ['TABLE']),\n",
    "                job_config=job_config)\n",
    "\n",
    "        load_job.result()  # wait for table load to complete.\n",
    "        print('Job finished.')"
   ]
  }
 ],
 "metadata": {
  "kernelspec": {
   "display_name": "Python 3",
   "language": "python",
   "name": "python3"
  },
  "language_info": {
   "codemirror_mode": {
    "name": "ipython",
    "version": 3
   },
   "file_extension": ".py",
   "mimetype": "text/x-python",
   "name": "python",
   "nbconvert_exporter": "python",
   "pygments_lexer": "ipython3",
   "version": "3.7.4"
  }
 },
 "nbformat": 4,
 "nbformat_minor": 4
}
